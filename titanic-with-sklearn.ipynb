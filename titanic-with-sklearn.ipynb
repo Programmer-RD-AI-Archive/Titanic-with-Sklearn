{
 "cells": [
  {
   "cell_type": "code",
   "execution_count": 2,
   "id": "a496ccdd",
   "metadata": {
    "execution": {
     "iopub.execute_input": "2022-05-18T08:21:11.704303Z",
     "iopub.status.busy": "2022-05-18T08:21:11.704030Z",
     "iopub.status.idle": "2022-05-18T08:21:13.029023Z",
     "shell.execute_reply": "2022-05-18T08:21:13.028005Z"
    },
    "papermill": {
     "duration": 1.356843,
     "end_time": "2022-05-18T08:21:13.031570",
     "exception": false,
     "start_time": "2022-05-18T08:21:11.674727",
     "status": "completed"
    },
    "tags": []
   },
   "outputs": [],
   "source": [
    "import pandas as pd\n",
    "import numpy as np\n",
    "import matplotlib.pyplot as plt\n",
    "from sklearn.preprocessing import StandardScaler, MinMaxScaler, OrdinalEncoder\n",
    "from sklearn.compose import make_column_transformer"
   ]
  },
  {
   "cell_type": "code",
   "execution_count": 3,
   "id": "2a96a6ba",
   "metadata": {
    "execution": {
     "iopub.execute_input": "2022-05-18T08:21:13.089664Z",
     "iopub.status.busy": "2022-05-18T08:21:13.089381Z",
     "iopub.status.idle": "2022-05-18T08:21:13.115724Z",
     "shell.execute_reply": "2022-05-18T08:21:13.114944Z"
    },
    "papermill": {
     "duration": 0.057932,
     "end_time": "2022-05-18T08:21:13.118051",
     "exception": false,
     "start_time": "2022-05-18T08:21:13.060119",
     "status": "completed"
    },
    "tags": []
   },
   "outputs": [],
   "source": [
    "data_train = pd.read_csv(\"./train.csv\")\n",
    "data_test = pd.read_csv(\"./test.csv\")"
   ]
  },
  {
   "cell_type": "code",
   "execution_count": 4,
   "id": "6c9fb196",
   "metadata": {
    "execution": {
     "iopub.execute_input": "2022-05-18T08:21:13.176968Z",
     "iopub.status.busy": "2022-05-18T08:21:13.176641Z",
     "iopub.status.idle": "2022-05-18T08:21:13.187174Z",
     "shell.execute_reply": "2022-05-18T08:21:13.186382Z"
    },
    "papermill": {
     "duration": 0.042461,
     "end_time": "2022-05-18T08:21:13.189345",
     "exception": false,
     "start_time": "2022-05-18T08:21:13.146884",
     "status": "completed"
    },
    "tags": []
   },
   "outputs": [],
   "source": [
    "gender_labels = {'male':0,'female':1}\n",
    "data_train['Sex'] = data_train['Sex'].replace({'male':0,'female':1})"
   ]
  },
  {
   "cell_type": "code",
   "execution_count": 5,
   "id": "5f5edd8c",
   "metadata": {
    "execution": {
     "iopub.execute_input": "2022-05-18T08:21:13.247693Z",
     "iopub.status.busy": "2022-05-18T08:21:13.247413Z",
     "iopub.status.idle": "2022-05-18T08:21:13.261533Z",
     "shell.execute_reply": "2022-05-18T08:21:13.260692Z"
    },
    "papermill": {
     "duration": 0.045889,
     "end_time": "2022-05-18T08:21:13.263954",
     "exception": false,
     "start_time": "2022-05-18T08:21:13.218065",
     "status": "completed"
    },
    "tags": []
   },
   "outputs": [],
   "source": [
    "data_train = data_train.drop(['Name','Ticket','Cabin','Embarked'],axis =1)\n",
    "data_test = data_test.drop(['Name','Ticket','Cabin','Embarked'],axis =1)"
   ]
  },
  {
   "cell_type": "code",
   "execution_count": 6,
   "id": "17c38ffd",
   "metadata": {
    "execution": {
     "iopub.execute_input": "2022-05-18T08:21:13.322188Z",
     "iopub.status.busy": "2022-05-18T08:21:13.321862Z",
     "iopub.status.idle": "2022-05-18T08:21:13.327819Z",
     "shell.execute_reply": "2022-05-18T08:21:13.327196Z"
    },
    "papermill": {
     "duration": 0.037454,
     "end_time": "2022-05-18T08:21:13.329841",
     "exception": false,
     "start_time": "2022-05-18T08:21:13.292387",
     "status": "completed"
    },
    "tags": []
   },
   "outputs": [],
   "source": [
    "data_train['Age'] = data_train['Age'].fillna(data_train['Age'].mean())"
   ]
  },
  {
   "cell_type": "code",
   "execution_count": 7,
   "id": "a2b8e120",
   "metadata": {
    "execution": {
     "iopub.execute_input": "2022-05-18T08:21:13.390795Z",
     "iopub.status.busy": "2022-05-18T08:21:13.389971Z",
     "iopub.status.idle": "2022-05-18T08:21:13.398712Z",
     "shell.execute_reply": "2022-05-18T08:21:13.397851Z"
    },
    "papermill": {
     "duration": 0.040245,
     "end_time": "2022-05-18T08:21:13.400800",
     "exception": false,
     "start_time": "2022-05-18T08:21:13.360555",
     "status": "completed"
    },
    "tags": []
   },
   "outputs": [],
   "source": [
    "data_test['Age'] = data_test['Age'].fillna(data_test['Age'].mean())\n",
    "data_test['Fare'] = data_test['Fare'].fillna(data_test['Fare'].mean())\n",
    "gender_labels = {'male':0,'female':1}\n",
    "data_test['Sex'] = data_test['Sex'].replace({'male':0,'female':1})"
   ]
  },
  {
   "cell_type": "code",
   "execution_count": 8,
   "id": "3787e255",
   "metadata": {
    "execution": {
     "iopub.execute_input": "2022-05-18T08:21:13.459291Z",
     "iopub.status.busy": "2022-05-18T08:21:13.458699Z",
     "iopub.status.idle": "2022-05-18T08:21:13.464179Z",
     "shell.execute_reply": "2022-05-18T08:21:13.463510Z"
    },
    "papermill": {
     "duration": 0.03726,
     "end_time": "2022-05-18T08:21:13.466541",
     "exception": false,
     "start_time": "2022-05-18T08:21:13.429281",
     "status": "completed"
    },
    "tags": []
   },
   "outputs": [],
   "source": [
    "x_train = data_train.drop(['Survived'],axis =1)   #dropped unnecessary columns"
   ]
  },
  {
   "cell_type": "code",
   "execution_count": 9,
   "id": "6af18211",
   "metadata": {
    "execution": {
     "iopub.execute_input": "2022-05-18T08:21:13.526206Z",
     "iopub.status.busy": "2022-05-18T08:21:13.525631Z",
     "iopub.status.idle": "2022-05-18T08:21:13.529961Z",
     "shell.execute_reply": "2022-05-18T08:21:13.529278Z"
    },
    "papermill": {
     "duration": 0.035769,
     "end_time": "2022-05-18T08:21:13.532005",
     "exception": false,
     "start_time": "2022-05-18T08:21:13.496236",
     "status": "completed"
    },
    "tags": []
   },
   "outputs": [],
   "source": [
    "y_train = data_train['Survived']"
   ]
  },
  {
   "cell_type": "code",
   "execution_count": 10,
   "id": "06e0c191",
   "metadata": {
    "execution": {
     "iopub.execute_input": "2022-05-18T08:21:13.589825Z",
     "iopub.status.busy": "2022-05-18T08:21:13.589541Z",
     "iopub.status.idle": "2022-05-18T08:21:13.593341Z",
     "shell.execute_reply": "2022-05-18T08:21:13.592277Z"
    },
    "papermill": {
     "duration": 0.035384,
     "end_time": "2022-05-18T08:21:13.595345",
     "exception": false,
     "start_time": "2022-05-18T08:21:13.559961",
     "status": "completed"
    },
    "tags": []
   },
   "outputs": [],
   "source": [
    "x_test = data_test"
   ]
  },
  {
   "cell_type": "code",
   "execution_count": 11,
   "id": "7913f24e",
   "metadata": {
    "execution": {
     "iopub.execute_input": "2022-05-18T08:21:13.653784Z",
     "iopub.status.busy": "2022-05-18T08:21:13.653235Z",
     "iopub.status.idle": "2022-05-18T08:21:13.657328Z",
     "shell.execute_reply": "2022-05-18T08:21:13.656752Z"
    },
    "papermill": {
     "duration": 0.035502,
     "end_time": "2022-05-18T08:21:13.659261",
     "exception": false,
     "start_time": "2022-05-18T08:21:13.623759",
     "status": "completed"
    },
    "tags": []
   },
   "outputs": [],
   "source": [
    "num_columns = list(x_test.columns)"
   ]
  },
  {
   "cell_type": "code",
   "execution_count": 12,
   "id": "31df9112",
   "metadata": {
    "execution": {
     "iopub.execute_input": "2022-05-18T08:21:13.717457Z",
     "iopub.status.busy": "2022-05-18T08:21:13.716651Z",
     "iopub.status.idle": "2022-05-18T08:21:13.737188Z",
     "shell.execute_reply": "2022-05-18T08:21:13.736328Z"
    },
    "papermill": {
     "duration": 0.052293,
     "end_time": "2022-05-18T08:21:13.739454",
     "exception": false,
     "start_time": "2022-05-18T08:21:13.687161",
     "status": "completed"
    },
    "tags": []
   },
   "outputs": [],
   "source": [
    "ct = make_column_transformer(\n",
    "    (MinMaxScaler(), num_columns),\n",
    "    (StandardScaler(), num_columns),\n",
    "    remainder='passthrough'\n",
    ")\n",
    "\n",
    "x_train = ct.fit_transform(x_train)\n",
    "x_test = ct.transform(x_test)"
   ]
  },
  {
   "cell_type": "code",
   "execution_count": 13,
   "id": "9a88951a",
   "metadata": {
    "execution": {
     "iopub.execute_input": "2022-05-18T08:21:13.797681Z",
     "iopub.status.busy": "2022-05-18T08:21:13.797068Z",
     "iopub.status.idle": "2022-05-18T08:21:13.948540Z",
     "shell.execute_reply": "2022-05-18T08:21:13.947714Z"
    },
    "papermill": {
     "duration": 0.183389,
     "end_time": "2022-05-18T08:21:13.951034",
     "exception": false,
     "start_time": "2022-05-18T08:21:13.767645",
     "status": "completed"
    },
    "tags": []
   },
   "outputs": [],
   "source": [
    "from sklearn.linear_model import LogisticRegression"
   ]
  },
  {
   "cell_type": "code",
   "execution_count": 14,
   "id": "7118ec5c",
   "metadata": {
    "execution": {
     "iopub.execute_input": "2022-05-18T08:21:14.009582Z",
     "iopub.status.busy": "2022-05-18T08:21:14.008627Z",
     "iopub.status.idle": "2022-05-18T08:21:14.013370Z",
     "shell.execute_reply": "2022-05-18T08:21:14.012752Z"
    },
    "papermill": {
     "duration": 0.036009,
     "end_time": "2022-05-18T08:21:14.015347",
     "exception": false,
     "start_time": "2022-05-18T08:21:13.979338",
     "status": "completed"
    },
    "tags": []
   },
   "outputs": [],
   "source": [
    "log_reg = LogisticRegression(solver='liblinear')"
   ]
  },
  {
   "cell_type": "code",
   "execution_count": 15,
   "id": "fc370d01",
   "metadata": {
    "execution": {
     "iopub.execute_input": "2022-05-18T08:21:14.074213Z",
     "iopub.status.busy": "2022-05-18T08:21:14.073629Z",
     "iopub.status.idle": "2022-05-18T08:21:14.085479Z",
     "shell.execute_reply": "2022-05-18T08:21:14.084584Z"
    },
    "papermill": {
     "duration": 0.043653,
     "end_time": "2022-05-18T08:21:14.087883",
     "exception": false,
     "start_time": "2022-05-18T08:21:14.044230",
     "status": "completed"
    },
    "tags": []
   },
   "outputs": [],
   "source": [
    "log_reg.fit(x_train, y_train)\n",
    "log_reg.fit(x_train, y_train)\n",
    "y_test = log_reg.predict(x_test)"
   ]
  },
  {
   "cell_type": "code",
   "execution_count": 16,
   "id": "47d76210",
   "metadata": {
    "execution": {
     "iopub.execute_input": "2022-05-18T08:21:14.145736Z",
     "iopub.status.busy": "2022-05-18T08:21:14.145453Z",
     "iopub.status.idle": "2022-05-18T08:21:14.155271Z",
     "shell.execute_reply": "2022-05-18T08:21:14.154462Z"
    },
    "papermill": {
     "duration": 0.041801,
     "end_time": "2022-05-18T08:21:14.157796",
     "exception": false,
     "start_time": "2022-05-18T08:21:14.115995",
     "status": "completed"
    },
    "tags": []
   },
   "outputs": [
    {
     "data": {
      "text/plain": [
       "array([0, 0, 0, 0, 1, 0, 1, 0, 1, 0, 0, 0, 1, 0, 1, 1, 0, 0, 1, 0, 0, 0,\n",
       "       1, 1, 1, 0, 1, 0, 0, 0, 0, 0, 0, 1, 0, 0, 1, 1, 0, 0, 0, 1, 0, 1,\n",
       "       1, 0, 0, 0, 1, 1, 1, 0, 1, 1, 0, 0, 0, 0, 0, 1, 0, 0, 0, 1, 1, 1,\n",
       "       1, 0, 0, 1, 1, 0, 1, 1, 1, 1, 0, 1, 0, 1, 0, 0, 0, 0, 0, 0, 1, 1,\n",
       "       1, 0, 1, 0, 1, 0, 1, 0, 1, 0, 1, 0, 1, 0, 0, 0, 1, 0, 0, 0, 0, 0,\n",
       "       0, 1, 1, 1, 1, 0, 0, 1, 0, 1, 1, 0, 1, 0, 0, 1, 0, 0, 0, 0, 0, 0,\n",
       "       1, 0, 0, 0, 0, 0, 1, 0, 0, 1, 0, 0, 0, 0, 1, 0, 1, 0, 1, 0, 0, 1,\n",
       "       0, 0, 1, 1, 0, 1, 1, 0, 1, 0, 0, 1, 0, 0, 1, 1, 0, 0, 0, 0, 0, 1,\n",
       "       1, 0, 1, 1, 0, 0, 1, 0, 1, 0, 1, 0, 0, 0, 0, 1, 0, 0, 0, 0, 1, 1,\n",
       "       0, 1, 1, 0, 0, 1, 0, 1, 1, 0, 1, 0, 0, 0, 0, 1, 0, 0, 1, 0, 1, 0,\n",
       "       1, 0, 1, 0, 1, 1, 0, 1, 0, 0, 0, 1, 0, 0, 0, 0, 0, 0, 1, 1, 1, 1,\n",
       "       0, 0, 0, 0, 1, 0, 1, 1, 1, 0, 1, 0, 0, 0, 0, 0, 1, 0, 0, 0, 1, 1,\n",
       "       0, 0, 0, 0, 1, 0, 0, 0, 1, 1, 0, 1, 0, 0, 0, 0, 1, 0, 1, 1, 1, 0,\n",
       "       0, 1, 0, 0, 1, 1, 0, 0, 0, 0, 1, 0, 1, 0, 0, 0, 0, 0, 1, 1, 0, 0,\n",
       "       0, 0, 0, 0, 0, 1, 1, 1, 0, 0, 0, 0, 0, 0, 0, 0, 1, 0, 1, 0, 0, 0,\n",
       "       1, 0, 0, 1, 0, 1, 0, 0, 0, 0, 0, 0, 0, 1, 0, 1, 0, 1, 0, 1, 1, 0,\n",
       "       0, 0, 1, 0, 1, 0, 0, 1, 0, 1, 1, 0, 1, 0, 0, 1, 1, 0, 0, 1, 0, 0,\n",
       "       1, 1, 1, 0, 0, 0, 0, 0, 1, 1, 0, 1, 0, 0, 0, 0, 1, 1, 0, 0, 0, 1,\n",
       "       0, 1, 0, 0, 1, 0, 1, 1, 0, 0, 0, 0, 1, 1, 1, 1, 1, 0, 1, 0, 0, 0])"
      ]
     },
     "execution_count": 16,
     "metadata": {},
     "output_type": "execute_result"
    }
   ],
   "source": [
    "y_test"
   ]
  },
  {
   "cell_type": "code",
   "execution_count": 17,
   "id": "f95d2c0d",
   "metadata": {
    "execution": {
     "iopub.execute_input": "2022-05-18T08:21:14.217622Z",
     "iopub.status.busy": "2022-05-18T08:21:14.217316Z",
     "iopub.status.idle": "2022-05-18T08:21:14.221649Z",
     "shell.execute_reply": "2022-05-18T08:21:14.220851Z"
    },
    "papermill": {
     "duration": 0.036544,
     "end_time": "2022-05-18T08:21:14.223599",
     "exception": false,
     "start_time": "2022-05-18T08:21:14.187055",
     "status": "completed"
    },
    "tags": []
   },
   "outputs": [],
   "source": [
    "ids = data_test['PassengerId'].tolist()"
   ]
  },
  {
   "cell_type": "code",
   "execution_count": 18,
   "id": "f01c23d6",
   "metadata": {
    "execution": {
     "iopub.execute_input": "2022-05-18T08:21:14.283158Z",
     "iopub.status.busy": "2022-05-18T08:21:14.282700Z",
     "iopub.status.idle": "2022-05-18T08:21:14.286570Z",
     "shell.execute_reply": "2022-05-18T08:21:14.285968Z"
    },
    "papermill": {
     "duration": 0.035627,
     "end_time": "2022-05-18T08:21:14.288441",
     "exception": false,
     "start_time": "2022-05-18T08:21:14.252814",
     "status": "completed"
    },
    "tags": []
   },
   "outputs": [],
   "source": [
    "preds = list(y_test)"
   ]
  },
  {
   "cell_type": "code",
   "execution_count": 19,
   "id": "eab905fc",
   "metadata": {
    "execution": {
     "iopub.execute_input": "2022-05-18T08:21:14.347755Z",
     "iopub.status.busy": "2022-05-18T08:21:14.347331Z",
     "iopub.status.idle": "2022-05-18T08:21:14.351398Z",
     "shell.execute_reply": "2022-05-18T08:21:14.350794Z"
    },
    "papermill": {
     "duration": 0.035874,
     "end_time": "2022-05-18T08:21:14.353389",
     "exception": false,
     "start_time": "2022-05-18T08:21:14.317515",
     "status": "completed"
    },
    "tags": []
   },
   "outputs": [],
   "source": [
    "submission = {\n",
    "    \"PassengerID\":[],\n",
    "    \"Survived\":[]\n",
    "}"
   ]
  },
  {
   "cell_type": "code",
   "execution_count": 20,
   "id": "65b281df",
   "metadata": {
    "execution": {
     "iopub.execute_input": "2022-05-18T08:21:14.412098Z",
     "iopub.status.busy": "2022-05-18T08:21:14.411817Z",
     "iopub.status.idle": "2022-05-18T08:21:14.415853Z",
     "shell.execute_reply": "2022-05-18T08:21:14.414920Z"
    },
    "papermill": {
     "duration": 0.035702,
     "end_time": "2022-05-18T08:21:14.417928",
     "exception": false,
     "start_time": "2022-05-18T08:21:14.382226",
     "status": "completed"
    },
    "tags": []
   },
   "outputs": [],
   "source": [
    "from tqdm import tqdm"
   ]
  },
  {
   "cell_type": "code",
   "execution_count": 21,
   "id": "d1a21be9",
   "metadata": {
    "execution": {
     "iopub.execute_input": "2022-05-18T08:21:14.476402Z",
     "iopub.status.busy": "2022-05-18T08:21:14.476126Z",
     "iopub.status.idle": "2022-05-18T08:21:14.479628Z",
     "shell.execute_reply": "2022-05-18T08:21:14.478719Z"
    },
    "papermill": {
     "duration": 0.035062,
     "end_time": "2022-05-18T08:21:14.481420",
     "exception": false,
     "start_time": "2022-05-18T08:21:14.446358",
     "status": "completed"
    },
    "tags": []
   },
   "outputs": [],
   "source": [
    "# preds = preds[:10]\n",
    "# ids = ids[:10]\n",
    "# First 10"
   ]
  },
  {
   "cell_type": "code",
   "execution_count": 22,
   "id": "855ebd01",
   "metadata": {
    "execution": {
     "iopub.execute_input": "2022-05-18T08:21:14.540028Z",
     "iopub.status.busy": "2022-05-18T08:21:14.539459Z",
     "iopub.status.idle": "2022-05-18T08:21:14.550536Z",
     "shell.execute_reply": "2022-05-18T08:21:14.549598Z"
    },
    "papermill": {
     "duration": 0.043287,
     "end_time": "2022-05-18T08:21:14.552928",
     "exception": false,
     "start_time": "2022-05-18T08:21:14.509641",
     "status": "completed"
    },
    "tags": []
   },
   "outputs": [
    {
     "name": "stderr",
     "output_type": "stream",
     "text": [
      "100%|██████████| 418/418 [00:00<00:00, 659600.85it/s]\n"
     ]
    }
   ],
   "source": [
    "for id,pred in zip(tqdm(ids),preds):\n",
    "    submission['PassengerID'].append(id)\n",
    "    submission['Survived'].append(pred)"
   ]
  },
  {
   "cell_type": "code",
   "execution_count": 23,
   "id": "d9fd36b6",
   "metadata": {
    "execution": {
     "iopub.execute_input": "2022-05-18T08:21:14.616674Z",
     "iopub.status.busy": "2022-05-18T08:21:14.616136Z",
     "iopub.status.idle": "2022-05-18T08:21:14.620781Z",
     "shell.execute_reply": "2022-05-18T08:21:14.620102Z"
    },
    "papermill": {
     "duration": 0.039371,
     "end_time": "2022-05-18T08:21:14.622787",
     "exception": false,
     "start_time": "2022-05-18T08:21:14.583416",
     "status": "completed"
    },
    "tags": []
   },
   "outputs": [],
   "source": [
    "submission = pd.DataFrame(submission)"
   ]
  },
  {
   "cell_type": "code",
   "execution_count": 24,
   "id": "969e6179",
   "metadata": {
    "execution": {
     "iopub.execute_input": "2022-05-18T08:21:14.687306Z",
     "iopub.status.busy": "2022-05-18T08:21:14.686755Z",
     "iopub.status.idle": "2022-05-18T08:21:14.699464Z",
     "shell.execute_reply": "2022-05-18T08:21:14.698836Z"
    },
    "papermill": {
     "duration": 0.047626,
     "end_time": "2022-05-18T08:21:14.701543",
     "exception": false,
     "start_time": "2022-05-18T08:21:14.653917",
     "status": "completed"
    },
    "tags": []
   },
   "outputs": [
    {
     "data": {
      "text/html": [
       "<div>\n",
       "<style scoped>\n",
       "    .dataframe tbody tr th:only-of-type {\n",
       "        vertical-align: middle;\n",
       "    }\n",
       "\n",
       "    .dataframe tbody tr th {\n",
       "        vertical-align: top;\n",
       "    }\n",
       "\n",
       "    .dataframe thead th {\n",
       "        text-align: right;\n",
       "    }\n",
       "</style>\n",
       "<table border=\"1\" class=\"dataframe\">\n",
       "  <thead>\n",
       "    <tr style=\"text-align: right;\">\n",
       "      <th></th>\n",
       "      <th>PassengerID</th>\n",
       "      <th>Survived</th>\n",
       "    </tr>\n",
       "  </thead>\n",
       "  <tbody>\n",
       "    <tr>\n",
       "      <th>0</th>\n",
       "      <td>892</td>\n",
       "      <td>0</td>\n",
       "    </tr>\n",
       "    <tr>\n",
       "      <th>1</th>\n",
       "      <td>893</td>\n",
       "      <td>0</td>\n",
       "    </tr>\n",
       "    <tr>\n",
       "      <th>2</th>\n",
       "      <td>894</td>\n",
       "      <td>0</td>\n",
       "    </tr>\n",
       "    <tr>\n",
       "      <th>3</th>\n",
       "      <td>895</td>\n",
       "      <td>0</td>\n",
       "    </tr>\n",
       "    <tr>\n",
       "      <th>4</th>\n",
       "      <td>896</td>\n",
       "      <td>1</td>\n",
       "    </tr>\n",
       "    <tr>\n",
       "      <th>5</th>\n",
       "      <td>897</td>\n",
       "      <td>0</td>\n",
       "    </tr>\n",
       "    <tr>\n",
       "      <th>6</th>\n",
       "      <td>898</td>\n",
       "      <td>1</td>\n",
       "    </tr>\n",
       "    <tr>\n",
       "      <th>7</th>\n",
       "      <td>899</td>\n",
       "      <td>0</td>\n",
       "    </tr>\n",
       "    <tr>\n",
       "      <th>8</th>\n",
       "      <td>900</td>\n",
       "      <td>1</td>\n",
       "    </tr>\n",
       "    <tr>\n",
       "      <th>9</th>\n",
       "      <td>901</td>\n",
       "      <td>0</td>\n",
       "    </tr>\n",
       "  </tbody>\n",
       "</table>\n",
       "</div>"
      ],
      "text/plain": [
       "   PassengerID  Survived\n",
       "0          892         0\n",
       "1          893         0\n",
       "2          894         0\n",
       "3          895         0\n",
       "4          896         1\n",
       "5          897         0\n",
       "6          898         1\n",
       "7          899         0\n",
       "8          900         1\n",
       "9          901         0"
      ]
     },
     "execution_count": 24,
     "metadata": {},
     "output_type": "execute_result"
    }
   ],
   "source": [
    "submission.iloc[:10]"
   ]
  },
  {
   "cell_type": "code",
   "execution_count": 25,
   "id": "770faad9",
   "metadata": {
    "execution": {
     "iopub.execute_input": "2022-05-18T08:21:14.765783Z",
     "iopub.status.busy": "2022-05-18T08:21:14.765185Z",
     "iopub.status.idle": "2022-05-18T08:21:14.772549Z",
     "shell.execute_reply": "2022-05-18T08:21:14.771874Z"
    },
    "papermill": {
     "duration": 0.041085,
     "end_time": "2022-05-18T08:21:14.774675",
     "exception": false,
     "start_time": "2022-05-18T08:21:14.733590",
     "status": "completed"
    },
    "tags": []
   },
   "outputs": [],
   "source": [
    "submission.to_csv(\"./Final.csv\",index=False)"
   ]
  },
  {
   "cell_type": "code",
   "execution_count": null,
   "id": "98f4a3f0",
   "metadata": {
    "papermill": {
     "duration": 0.029724,
     "end_time": "2022-05-18T08:21:14.834387",
     "exception": false,
     "start_time": "2022-05-18T08:21:14.804663",
     "status": "completed"
    },
    "tags": []
   },
   "outputs": [],
   "source": []
  },
  {
   "cell_type": "code",
   "execution_count": null,
   "id": "a6fed763",
   "metadata": {
    "papermill": {
     "duration": 0.029621,
     "end_time": "2022-05-18T08:21:14.893956",
     "exception": false,
     "start_time": "2022-05-18T08:21:14.864335",
     "status": "completed"
    },
    "tags": []
   },
   "outputs": [],
   "source": []
  },
  {
   "cell_type": "code",
   "execution_count": null,
   "id": "51b9f568",
   "metadata": {
    "papermill": {
     "duration": 0.031077,
     "end_time": "2022-05-18T08:21:14.954971",
     "exception": false,
     "start_time": "2022-05-18T08:21:14.923894",
     "status": "completed"
    },
    "tags": []
   },
   "outputs": [],
   "source": []
  }
 ],
 "metadata": {
  "kernelspec": {
   "display_name": "Python 3 (ipykernel)",
   "language": "python",
   "name": "python3"
  },
  "language_info": {
   "codemirror_mode": {
    "name": "ipython",
    "version": 3
   },
   "file_extension": ".py",
   "mimetype": "text/x-python",
   "name": "python",
   "nbconvert_exporter": "python",
   "pygments_lexer": "ipython3",
   "version": "3.7.12"
  },
  "papermill": {
   "default_parameters": {},
   "duration": 14.613875,
   "end_time": "2022-05-18T08:21:15.806718",
   "environment_variables": {},
   "exception": null,
   "input_path": "__notebook__.ipynb",
   "output_path": "__notebook__.ipynb",
   "parameters": {},
   "start_time": "2022-05-18T08:21:01.192843",
   "version": "2.3.4"
  }
 },
 "nbformat": 4,
 "nbformat_minor": 5
}
